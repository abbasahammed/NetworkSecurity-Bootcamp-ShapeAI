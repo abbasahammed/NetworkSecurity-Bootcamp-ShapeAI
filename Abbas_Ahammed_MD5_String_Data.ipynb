{
  "nbformat": 4,
  "nbformat_minor": 0,
  "metadata": {
    "colab": {
      "name": "Abbas Ahammed-MD5 String Data.ipynb",
      "provenance": []
    },
    "kernelspec": {
      "name": "python3",
      "display_name": "Python 3"
    },
    "language_info": {
      "name": "python"
    }
  },
  "cells": [
    {
      "cell_type": "code",
      "metadata": {
        "colab": {
          "base_uri": "https://localhost:8080/"
        },
        "id": "gqCTTj68jFZh",
        "outputId": "7d8e2b53-7a19-4134-fd90-a0e2ff17bf17"
      },
      "source": [
        "import hashlib\n",
        "str = \"Hello World \"\n",
        "#encoding the str using encode ()\n",
        "# then sending to md5()\n",
        "result = hashlib.md5\t (str.encode ())\n",
        "# printing the equivalent hexadecimal value\n",
        "print(\"The hexadecimal equivalent of hash is:\",end =\" \")\n",
        "print (result . hexdigest ())\n",
        "#\n",
        "print(\"Enter the  String/Text to generate your MD5 Data:\")\n",
        "text =input(\"Enter your String/Text Here:\")\n",
        "hash_obj = hashlib.md5(text.encode())\n",
        "md5_hash = hash_obj.hexdigest()\n",
        "print(\"The GENERATED MD5 of String/Text data is:- \",md5_hash)\n",
        "print(\"FINAL OUTPUT:-\",text,\"=\",md5_hash)\n"
      ],
      "execution_count": 1,
      "outputs": [
        {
          "output_type": "stream",
          "text": [
            "The hexadecimal equivalent of hash is: 1bbb8c1b1d7b04e7d172b39cf337a901\n",
            "Enter the  String/Text to generate your MD5 Data:\n",
            "Enter your String/Text Here:Germany\n",
            "The GENERATED MD5 of String/Text data is:-  d8b00929dec65d422303256336ada04f\n",
            "FINAL OUTPUT:- Germany = d8b00929dec65d422303256336ada04f\n"
          ],
          "name": "stdout"
        }
      ]
    }
  ]
}